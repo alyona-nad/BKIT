import requests
import json
r = requests.get('http://localhost:5000/20')
seq = json.loads(r.text)
print(seq)


import matplotlib.pyplot as mpl
import numpy as np
%matplotlib inline
mpl.style.use('seaborn-whitegrid')
axis = mpl.axes()
x = np.arange(0, 20)
axis.plot(x, seq)
mpl.show()
